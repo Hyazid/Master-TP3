{
  "nbformat": 4,
  "nbformat_minor": 0,
  "metadata": {
    "colab": {
      "name": "ANN 002.ipynb",
      "provenance": [],
      "collapsed_sections": [],
      "authorship_tag": "ABX9TyOAMIxrijJzBWDCRcZxM5/c",
      "include_colab_link": true
    },
    "kernelspec": {
      "name": "python3",
      "display_name": "Python 3"
    }
  },
  "cells": [
    {
      "cell_type": "markdown",
      "metadata": {
        "id": "view-in-github",
        "colab_type": "text"
      },
      "source": [
        "<a href=\"https://colab.research.google.com/github/Hyazid/Master-TP3/blob/master/ANN_002.ipynb\" target=\"_parent\"><img src=\"https://colab.research.google.com/assets/colab-badge.svg\" alt=\"Open In Colab\"/></a>"
      ]
    },
    {
      "cell_type": "code",
      "metadata": {
        "id": "7QdCptS6N9aK"
      },
      "source": [
        "import tensorflow as tf\r\n",
        "from tensorflow import keras \r\n",
        "# x_train is features (pixels)\r\n",
        "# y_train is lable (0.1.2.3.4.5.6.7.8.9)\r\n",
        "(x_train,y_train),(x_test, y_test)= tf.keras.datasets.mnist.load_data()\r\n",
        "\r\n",
        "# normalize xtrain and xtest\r\n",
        "# make the scale frome 0 to 1\r\n",
        "#in pixels 0-->255 (normalize) 0-->1\r\n",
        "x_train = tf.keras.utils.normalize(x_train, axis=1)\r\n",
        "x_test = tf.keras.utils.normalize(x_test,axis=1)\r\n",
        "\r\n",
        "print(x_train[0])\r\n",
        "\r\n"
      ],
      "execution_count": null,
      "outputs": []
    },
    {
      "cell_type": "code",
      "metadata": {
        "id": "KZhp6M8XprKB"
      },
      "source": [
        "## create ANN\r\n",
        "model = tf.keras.models.Sequential()\r\n",
        "model.add(tf.keras.layers.Flatten())\r\n",
        "model.add(tf.keras.layers.Dense(units= 128,activation=tf.nn.relu))\r\n",
        "model.add(tf.keras.layers.Dense(units= 128, activation=tf.nn.relu))\r\n",
        "model.add(tf.keras.layers.Dense(units=10 ,activation=tf.nn.softmax))\r\n",
        "\r\n",
        "\r\n",
        "## add loss function and optimizer\r\n",
        "model.compile(optimizer='adam',loss='sparse_categorical_crossentropy', \r\n",
        "              metrics=['accuracy'])"
      ],
      "execution_count": 9,
      "outputs": []
    },
    {
      "cell_type": "code",
      "metadata": {
        "colab": {
          "base_uri": "https://localhost:8080/"
        },
        "id": "cThsxj7gsB4K",
        "outputId": "4623fda1-5981-4f44-9dbd-51d9e23b011a"
      },
      "source": [
        "## training phase and test\r\n",
        "model.fit(x_train,y_train,epochs=5)# training phase\r\n"
      ],
      "execution_count": 10,
      "outputs": [
        {
          "output_type": "stream",
          "text": [
            "Epoch 1/5\n",
            "1875/1875 [==============================] - 5s 2ms/step - loss: 0.4769 - accuracy: 0.8650\n",
            "Epoch 2/5\n",
            "1875/1875 [==============================] - 4s 2ms/step - loss: 0.1130 - accuracy: 0.9660\n",
            "Epoch 3/5\n",
            "1875/1875 [==============================] - 4s 2ms/step - loss: 0.0721 - accuracy: 0.9768\n",
            "Epoch 4/5\n",
            "1875/1875 [==============================] - 5s 2ms/step - loss: 0.0503 - accuracy: 0.9844\n",
            "Epoch 5/5\n",
            "1875/1875 [==============================] - 5s 2ms/step - loss: 0.0357 - accuracy: 0.9887\n"
          ],
          "name": "stdout"
        },
        {
          "output_type": "execute_result",
          "data": {
            "text/plain": [
              "<tensorflow.python.keras.callbacks.History at 0x7fde2c48c828>"
            ]
          },
          "metadata": {
            "tags": []
          },
          "execution_count": 10
        }
      ]
    },
    {
      "cell_type": "code",
      "metadata": {
        "colab": {
          "base_uri": "https://localhost:8080/"
        },
        "id": "sXmxn9_hsqRo",
        "outputId": "5a43b7c5-8cd7-4c1e-a553-4541d133070f"
      },
      "source": [
        "# info about precision and loss\r\n",
        "val_loss, val_acc = model.evaluate(x_test, y_test)\r\n",
        "print(val_loss)\r\n",
        "print(val_acc)\r\n"
      ],
      "execution_count": 11,
      "outputs": [
        {
          "output_type": "stream",
          "text": [
            "313/313 [==============================] - 1s 1ms/step - loss: 0.0927 - accuracy: 0.9712\n",
            "0.09266751259565353\n",
            "0.9711999893188477\n"
          ],
          "name": "stdout"
        }
      ]
    },
    {
      "cell_type": "code",
      "metadata": {
        "colab": {
          "base_uri": "https://localhost:8080/"
        },
        "id": "Ltd4Vg4wtLKd",
        "outputId": "f1231a94-3e63-4a2b-c3de-5ccf5fa8ac04"
      },
      "source": [
        "#make prediction\r\n",
        "prediction = model.predict(x_test)\r\n",
        "print(prediction)"
      ],
      "execution_count": 13,
      "outputs": [
        {
          "output_type": "stream",
          "text": [
            "[[1.5625312e-09 7.0202347e-08 3.6605886e-08 ... 9.9999964e-01\n",
            "  1.2164915e-10 3.8338356e-08]\n",
            " [1.2079171e-07 2.3385444e-05 9.9996281e-01 ... 1.7247034e-10\n",
            "  3.4245584e-09 9.3367026e-14]\n",
            " [2.0823368e-08 9.9965572e-01 7.1270608e-07 ... 3.3533116e-04\n",
            "  1.0948474e-06 8.9322079e-08]\n",
            " ...\n",
            " [1.5182580e-10 1.9494662e-07 7.8961975e-09 ... 8.2368197e-06\n",
            "  7.1039244e-07 7.5276625e-06]\n",
            " [1.8235923e-07 2.1048693e-07 4.9392401e-08 ... 1.1221559e-05\n",
            "  6.5388519e-04 4.4415873e-07]\n",
            " [1.1399171e-08 4.5097863e-11 1.3513015e-08 ... 1.6129278e-12\n",
            "  2.0525800e-07 3.7085595e-11]]\n"
          ],
          "name": "stdout"
        }
      ]
    },
    {
      "cell_type": "code",
      "metadata": {
        "colab": {
          "base_uri": "https://localhost:8080/"
        },
        "id": "aWdL0alOt0dj",
        "outputId": "95f96824-7145-4faf-a2d3-2bf6d1ee66a9"
      },
      "source": [
        "import numpy as np\r\n",
        "print(np.argmax(prediction[0]))"
      ],
      "execution_count": 14,
      "outputs": [
        {
          "output_type": "stream",
          "text": [
            "7\n"
          ],
          "name": "stdout"
        }
      ]
    },
    {
      "cell_type": "code",
      "metadata": {
        "colab": {
          "base_uri": "https://localhost:8080/",
          "height": 265
        },
        "id": "fw9ciNuduOCy",
        "outputId": "125bb099-c2ea-4664-c35e-0c2e123e2bf9"
      },
      "source": [
        "#showing result \r\n",
        "import matplotlib.pyplot as plt\r\n",
        "plt.imshow(x_test[0],cmap=plt.cm.binary)\r\n",
        "plt.show()"
      ],
      "execution_count": 15,
      "outputs": [
        {
          "output_type": "display_data",
          "data": {
            "image/png": "[encoded data removed]",
            "text/plain": [
              "<Figure size 432x288 with 1 Axes>"
            ]
          },
          "metadata": {
            "tags": [],
            "needs_background": "light"
          }
        }
      ]
    }
  ]
}